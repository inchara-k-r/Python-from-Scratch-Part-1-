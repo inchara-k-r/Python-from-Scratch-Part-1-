{
  "nbformat": 4,
  "nbformat_minor": 0,
  "metadata": {
    "colab": {
      "provenance": [],
      "authorship_tag": "ABX9TyN1rixD0W+td4Y+eTt8i+r/",
      "include_colab_link": true
    },
    "kernelspec": {
      "name": "python3",
      "display_name": "Python 3"
    },
    "language_info": {
      "name": "python"
    }
  },
  "cells": [
    {
      "cell_type": "markdown",
      "metadata": {
        "id": "view-in-github",
        "colab_type": "text"
      },
      "source": [
        "<a href=\"https://colab.research.google.com/github/inchara-k-r/Python-from-Scratch-Part-1-/blob/main/PYTHON_py1.ipynb\" target=\"_parent\"><img src=\"https://colab.research.google.com/assets/colab-badge.svg\" alt=\"Open In Colab\"/></a>"
      ]
    },
    {
      "cell_type": "code",
      "execution_count": null,
      "metadata": {
        "colab": {
          "base_uri": "https://localhost:8080/"
        },
        "id": "fVC-zyHRWCGN",
        "outputId": "66f014ce-8fed-48c5-ee11-0ef870717c1b"
      },
      "outputs": [
        {
          "output_type": "stream",
          "name": "stdout",
          "text": [
            "Hello,World!\n"
          ]
        }
      ],
      "source": [
        "print(\"Hello,World!\")"
      ]
    },
    {
      "cell_type": "code",
      "source": [
        "print(\"My name is Inchara\")"
      ],
      "metadata": {
        "colab": {
          "base_uri": "https://localhost:8080/"
        },
        "id": "KBb6ly6DWT7x",
        "outputId": "48e0a74e-844e-41d2-bc61-82ee851c5044"
      },
      "execution_count": null,
      "outputs": [
        {
          "output_type": "stream",
          "name": "stdout",
          "text": [
            "My name is Inchara\n"
          ]
        }
      ]
    },
    {
      "cell_type": "code",
      "source": [
        "#VARIABLES\n",
        "a=10\n",
        "b=20\n",
        "print(a+b)"
      ],
      "metadata": {
        "colab": {
          "base_uri": "https://localhost:8080/"
        },
        "id": "PzriXI6pW9QH",
        "outputId": "44073e75-7f61-4a1b-8946-203e623b99ab"
      },
      "execution_count": null,
      "outputs": [
        {
          "output_type": "stream",
          "name": "stdout",
          "text": [
            "30\n"
          ]
        }
      ]
    },
    {
      "cell_type": "code",
      "source": [
        "a,b,c=10,20,30\n",
        "print(a+b+c)"
      ],
      "metadata": {
        "colab": {
          "base_uri": "https://localhost:8080/"
        },
        "id": "vAJO5dBOZ3gS",
        "outputId": "81cfeced-03e2-431c-a120-96eecfdc61f5"
      },
      "execution_count": null,
      "outputs": [
        {
          "output_type": "stream",
          "name": "stdout",
          "text": [
            "60\n"
          ]
        }
      ]
    },
    {
      "cell_type": "code",
      "source": [
        "a = b = c = 10\n",
        "print(a+b+c)"
      ],
      "metadata": {
        "colab": {
          "base_uri": "https://localhost:8080/"
        },
        "id": "xkOcalOWacH-",
        "outputId": "1b669922-359a-4197-8e55-b0bf8c7fdb24"
      },
      "execution_count": null,
      "outputs": [
        {
          "output_type": "stream",
          "name": "stdout",
          "text": [
            "30\n"
          ]
        }
      ]
    },
    {
      "cell_type": "code",
      "source": [
        "#variables should start with underscore or letters\n",
        "_name=\"Inchara\"\n",
        "print(_name)"
      ],
      "metadata": {
        "colab": {
          "base_uri": "https://localhost:8080/"
        },
        "id": "ne959NEGajct",
        "outputId": "7636c69a-087a-480e-f988-945e1c9ef462"
      },
      "execution_count": null,
      "outputs": [
        {
          "output_type": "stream",
          "name": "stdout",
          "text": [
            "Inchara\n"
          ]
        }
      ]
    },
    {
      "cell_type": "code",
      "source": [
        "#DATATYPES\n",
        "name=\"Inchara\" #string\n",
        "age = 20 #int\n",
        "is_student= False #bool\n",
        "weight = 58.7 #float\n",
        "print(type(weight))\n",
        "print(type(age))\n",
        "print(type(is_student))\n",
        "print(type(name))\n",
        "\n",
        "is_student=\"yes\"\n",
        "print(type(is_student))\n",
        "\n",
        "\n",
        "age_float = float(age)#conversion of type\n",
        "print(age_float)\n",
        "\n",
        "\n",
        "print(type(is_student))\n",
        "\n",
        "s=\"100\"\n",
        "print(int(s)+age)"
      ],
      "metadata": {
        "colab": {
          "base_uri": "https://localhost:8080/"
        },
        "id": "IQsGeaJwbh0p",
        "outputId": "e907796e-e513-4c8f-a8c3-1f55f38a2abf"
      },
      "execution_count": null,
      "outputs": [
        {
          "output_type": "stream",
          "name": "stdout",
          "text": [
            "<class 'float'>\n",
            "<class 'int'>\n",
            "<class 'bool'>\n",
            "<class 'str'>\n",
            "<class 'str'>\n",
            "20.0\n",
            "<class 'str'>\n",
            "120\n"
          ]
        }
      ]
    },
    {
      "cell_type": "code",
      "source": [
        "#ARITHEMATIC OPERATORS\n",
        "a = 10\n",
        "b = 20\n",
        "print(a + b) #add\n",
        "print(b - a) #sub\n",
        "print(a * b) #mult\n",
        "print(b / a) #divide\n",
        "print(b // a) #floor division\n",
        "print(a % b) #modulus/remainder\n",
        "print(a ** b) #exponential/power\n",
        "print(a+b-a*b//a**b)"
      ],
      "metadata": {
        "colab": {
          "base_uri": "https://localhost:8080/"
        },
        "id": "y9fGiWPdeKqC",
        "outputId": "195712cc-9bb1-4bed-c198-274dc44635cb"
      },
      "execution_count": null,
      "outputs": [
        {
          "output_type": "stream",
          "name": "stdout",
          "text": [
            "30\n",
            "10\n",
            "200\n",
            "2.0\n",
            "2\n",
            "10\n",
            "100000000000000000000\n",
            "30\n"
          ]
        }
      ]
    },
    {
      "cell_type": "code",
      "source": [
        "#SWAP TWO VARIABLES\n",
        "a=10\n",
        "b=40\n",
        "b=a\n",
        "a=b\n",
        "print(a+b)\n",
        "print(b-a)"
      ],
      "metadata": {
        "colab": {
          "base_uri": "https://localhost:8080/"
        },
        "id": "R-5Wsy3Clags",
        "outputId": "2c0ffc46-466f-4931-90e4-6cf5b9adcd31"
      },
      "execution_count": null,
      "outputs": [
        {
          "output_type": "stream",
          "name": "stdout",
          "text": [
            "20\n",
            "0\n"
          ]
        }
      ]
    },
    {
      "cell_type": "code",
      "source": [
        "print(\"Happy\") #direct output"
      ],
      "metadata": {
        "id": "n15DURtrnS7t",
        "colab": {
          "base_uri": "https://localhost:8080/"
        },
        "outputId": "c7bfb761-67b0-4c53-94ba-a1c46bec50c9"
      },
      "execution_count": null,
      "outputs": [
        {
          "output_type": "stream",
          "name": "stdout",
          "text": [
            "Happy\n"
          ]
        }
      ]
    },
    {
      "cell_type": "code",
      "source": [
        "age = input(\"age: \")  #asking input from user\n",
        "print(age)"
      ],
      "metadata": {
        "colab": {
          "base_uri": "https://localhost:8080/"
        },
        "id": "lv4dfyHoSB34",
        "outputId": "5554b1ff-8b54-4c32-e395-f6728a07d07d"
      },
      "execution_count": null,
      "outputs": [
        {
          "output_type": "stream",
          "name": "stdout",
          "text": [
            "age: 12\n",
            "12\n"
          ]
        }
      ]
    },
    {
      "cell_type": "code",
      "source": [
        "#ADDING TWO STRINGS THAT IS CONCATENATION\n",
        "boy_name = input(\"boy_name: \")\n",
        "girl_name = input(\"girl_name: \")\n",
        "print(boy_name)\n",
        "print(girl_name)\n",
        "print(boy_name , girl_name)\n",
        "print(boy_name +\" loves \" + girl_name)"
      ],
      "metadata": {
        "colab": {
          "base_uri": "https://localhost:8080/"
        },
        "id": "LkOQT47SSVDn",
        "outputId": "5845989f-d03f-4ec5-cec3-339479e4f0ed"
      },
      "execution_count": null,
      "outputs": [
        {
          "output_type": "stream",
          "name": "stdout",
          "text": [
            "boy_name: ram\n",
            "girl_name: sita\n",
            "ram\n",
            "sita\n",
            "ram sita\n",
            "ram loves sita\n"
          ]
        }
      ]
    },
    {
      "cell_type": "code",
      "source": [
        "boy_name = input(\"boy_name: \")\n",
        "boy_age = int(input(\"boy_age: \"))\n",
        "girl_name = input(\"girl_name: \")\n",
        "girl_age = int(input(\"girl_age: \"))\n",
        "\n",
        "# abs refers to absolute value ,sometimes girl age may be more than boy\n",
        "diff_age = abs(boy_age - girl_age)\n",
        "print(boy_name)\n",
        "print(girl_name)\n",
        "\n",
        "print(boy_age)\n",
        "print(girl_age)\n",
        "\n",
        "print(diff_age)\n",
        "\n",
        "#combining two strings\n",
        "print(boy_name , girl_name)\n",
        "\n",
        "#concatenation\n",
        "print(boy_name +\" loves \" + girl_name + \" and age difference is \" + str(diff_age))\n",
        "\n",
        "#formated string\n",
        "print(f\"{boy_name} loves {girl_name}.Age Difference is {diff_age}\")\n"
      ],
      "metadata": {
        "colab": {
          "base_uri": "https://localhost:8080/"
        },
        "id": "NesQFFvgTDAY",
        "outputId": "37909098-4145-4a48-e5e4-6a7ff4a3b53b"
      },
      "execution_count": null,
      "outputs": [
        {
          "output_type": "stream",
          "name": "stdout",
          "text": [
            "boy_name: rama\n",
            "boy_age: 26\n",
            "girl_name: sita\n",
            "girl_age: 30\n",
            "rama\n",
            "sita\n",
            "26\n",
            "30\n",
            "4\n",
            "rama sita\n",
            "rama loves sita and age difference is 4\n",
            "rama loves sita.Age Difference is 4\n"
          ]
        }
      ]
    },
    {
      "cell_type": "code",
      "source": [
        "#String Manipulation(Concatenation and Repetation)\n",
        "\n",
        "#Concatenation\n",
        "first_name = \"Inchara\"\n",
        "last_name = \"Madaga\"\n",
        "full_name = first_name + \" \" + last_name\n",
        "print(full_name)\n",
        "\n",
        "#Repetation\n",
        "message1 = \"Warning! \"\n",
        "print(message*5)\n",
        "\n"
      ],
      "metadata": {
        "colab": {
          "base_uri": "https://localhost:8080/"
        },
        "id": "eNQnALxlWUb8",
        "outputId": "db9175a9-df97-4ecc-d3e5-caf56049e84c"
      },
      "execution_count": null,
      "outputs": [
        {
          "output_type": "stream",
          "name": "stdout",
          "text": [
            "Inchara Madaga\n",
            "Warning! Warning! Warning! Warning! Warning! \n"
          ]
        }
      ]
    },
    {
      "cell_type": "code",
      "source": [
        "#STRING METHODS\n",
        "#upper\n",
        "message2 = \"This is a Warning! \"\n",
        "print(message2.upper())\n",
        "\n",
        "#Lower\n",
        "print(message2.lower())\n",
        "\n",
        "#Strip\n",
        "print(message2.strip()*4) # space can be reduced by strip\n",
        "\n",
        "#Replace\n",
        "print(message2.replace(\"Warning\",\"error\"))"
      ],
      "metadata": {
        "colab": {
          "base_uri": "https://localhost:8080/"
        },
        "id": "403ZV6W6fR-e",
        "outputId": "32e907d8-4a78-499d-d5e4-2c0bc3ed2f52"
      },
      "execution_count": null,
      "outputs": [
        {
          "output_type": "stream",
          "name": "stdout",
          "text": [
            "THIS IS A WARNING! \n",
            "this is a warning! \n",
            "This is a Warning!This is a Warning!This is a Warning!This is a Warning!\n",
            "This is a error! \n"
          ]
        }
      ]
    },
    {
      "cell_type": "code",
      "source": [
        "#Length\n",
        "print(len(message2))"
      ],
      "metadata": {
        "colab": {
          "base_uri": "https://localhost:8080/"
        },
        "id": "oL2egD0Hh9hc",
        "outputId": "dd477495-3974-47a7-85f4-e0aecfedf4e3"
      },
      "execution_count": null,
      "outputs": [
        {
          "output_type": "stream",
          "name": "stdout",
          "text": [
            "19\n"
          ]
        }
      ]
    },
    {
      "cell_type": "code",
      "source": [
        "#index = position-1\n",
        "name = \"Inchara\"\n",
        "print(name[5])\n",
        "\n",
        "#String Slicing\n",
        "print(name[1:5])\n",
        "print(name[:7])\n",
        "print(name[5:])\n",
        "print(name[:4])\n",
        "print(name[-2])\n",
        "print(name[1:7:3]) #3 is basically skipping letters\n",
        "\n",
        "\n",
        "#Escape sequence(we use back slash)\n",
        "a = \"Inchara is \\n a good girl\"\n",
        "b = \"Inchara is \\t a good girl\"\n",
        "print(a)\n",
        "print(b)\n"
      ],
      "metadata": {
        "colab": {
          "base_uri": "https://localhost:8080/"
        },
        "id": "JoxxBPWvjccf",
        "outputId": "1125b357-8f4d-4cca-e002-3209edbd5c18"
      },
      "execution_count": null,
      "outputs": [
        {
          "output_type": "stream",
          "name": "stdout",
          "text": [
            "r\n",
            "ncha\n",
            "Inchara\n",
            "ra\n",
            "Inch\n",
            "r\n",
            "na\n",
            "Inchara is \n",
            " a good girl\n",
            "Inchara is \t a good girl\n"
          ]
        }
      ]
    },
    {
      "cell_type": "code",
      "source": [
        "\n"
      ],
      "metadata": {
        "id": "Q0q8J-K6nidm"
      },
      "execution_count": null,
      "outputs": []
    }
  ]
}