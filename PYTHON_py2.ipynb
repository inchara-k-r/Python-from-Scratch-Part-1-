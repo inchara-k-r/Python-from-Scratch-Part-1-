{
  "nbformat": 4,
  "nbformat_minor": 0,
  "metadata": {
    "colab": {
      "provenance": [],
      "authorship_tag": "ABX9TyN+EM+zCmjPN6Sh37ZGYZKF",
      "include_colab_link": true
    },
    "kernelspec": {
      "name": "python3",
      "display_name": "Python 3"
    },
    "language_info": {
      "name": "python"
    }
  },
  "cells": [
    {
      "cell_type": "markdown",
      "metadata": {
        "id": "view-in-github",
        "colab_type": "text"
      },
      "source": [
        "<a href=\"https://colab.research.google.com/github/inchara-k-r/Python-from-Scratch-Part-1-/blob/main/PYTHON_py2.ipynb\" target=\"_parent\"><img src=\"https://colab.research.google.com/assets/colab-badge.svg\" alt=\"Open In Colab\"/></a>"
      ]
    },
    {
      "cell_type": "markdown",
      "source": [
        "1)ASSIGNMENT OPERATORS\n",
        "\n",
        "Assignment operators are used to assign values to variables. The simplest one is = which assigns the value on the right to the variable on the left. There are also compound assignment operators that combine arithmetic operations with assignment.\n",
        "\n",
        "Common Assignment Operators:\n",
        "\n",
        "=: Assigns value on the right to the variable on the left.\n",
        "\n",
        "+=: Adds right operand to the left operand and assigns the result to the left operand.\n",
        "\n",
        "-=: Subtracts the right operand from the left operand and assigns the result to the left operand.\n",
        "\n",
        "*=: Multiplies the left operand by the right operand and assigns the result to the left operand.\n",
        "\n",
        "/=: Divides the left operand by the right operand and assigns the result to the left operand.\n",
        "\n",
        "%=: Takes modulus of left operand by right operand and assigns the result to the left operand."
      ],
      "metadata": {
        "id": "E_CWvW0oUpAy"
      }
    },
    {
      "cell_type": "code",
      "source": [
        "x = 5  # Assigns 5 to x\n",
        "x += 3  # Equivalent to x = x + 3, now x is 8\n",
        "x -= 2  # Equivalent to x = x - 2, now x is 6\n",
        "x *= 4  # Equivalent to x = x * 4, now x is 24\n",
        "x /= 6  # Equivalent to x = x / 6, now x is 4.0"
      ],
      "metadata": {
        "id": "6gqIRxbxU-gQ"
      },
      "execution_count": null,
      "outputs": []
    },
    {
      "cell_type": "markdown",
      "source": [
        "2) Comparison Operators\n",
        "\n",
        "Comparison operators are used to compare two values. They return either True or False depending on the condition.\n",
        "\n",
        "Common Comparison Operators:\n",
        "\n",
        "==: Checks if two values are equal.\n",
        "\n",
        "!=: Checks if two values are not equal.\n",
        "\n",
        ">: Checks if the left operand is greater than the right operand.\n",
        "\n",
        "<: Checks if the left operand is less than the right operand.\n",
        "\n",
        ">=: Checks if the left operand is greater than or equal to the right operand.\n",
        "\n",
        "<=: Checks if the left operand is less than or equal to the right operand."
      ],
      "metadata": {
        "id": "JH_HXb7BVxDs"
      }
    },
    {
      "cell_type": "code",
      "source": [
        "a = 10\n",
        "b = 20\n",
        "\n",
        "print(a == b)  # Output: False\n",
        "print(a != b)  # Output: True\n",
        "print(a > b)  # Output: False\n",
        "print(a < b)  # Output: True\n",
        "print(a >= 10)  # Output: True\n",
        "print(b <= 25)  # Output: True"
      ],
      "metadata": {
        "colab": {
          "base_uri": "https://localhost:8080/"
        },
        "id": "Th52iaosWLOD",
        "outputId": "f4aa612a-9dbc-4159-db80-91e96897c13e"
      },
      "execution_count": null,
      "outputs": [
        {
          "output_type": "stream",
          "name": "stdout",
          "text": [
            "False\n",
            "True\n",
            "False\n",
            "True\n",
            "True\n",
            "True\n"
          ]
        }
      ]
    },
    {
      "cell_type": "markdown",
      "source": [
        "3. Logical Operators\n",
        "\n",
        "Logical operators are used to combine conditional statements. They evaluate expressions and return either True or False.\n",
        "\n",
        "Common Logical Operators:\n",
        "and: Returns True if both conditions are true.\n",
        "\n",
        "or: Returns True if at least one condition is true.\n",
        "\n",
        "not: Reverses the logical state of its operand (True becomes False, and vice versa).\n",
        "\n"
      ],
      "metadata": {
        "id": "AGvvcPkPWQiU"
      }
    },
    {
      "cell_type": "code",
      "source": [
        "x = 5\n",
        "y = 10\n",
        "z = 15\n",
        "\n",
        "# and operator\n",
        "print(x > 0 and y > 5)  # Output: True (both conditions are True)\n",
        "\n",
        "# or operator\n",
        "print(x > 10 or z > 10)  # Output: True (one of the conditions is True)\n",
        "\n",
        "# not operator\n",
        "print(not(x > 10))  # Output: True (reverses False to True)"
      ],
      "metadata": {
        "colab": {
          "base_uri": "https://localhost:8080/"
        },
        "id": "RSZnf58GWf1A",
        "outputId": "22ad9a73-612f-44ff-a3eb-75646c0657a2"
      },
      "execution_count": null,
      "outputs": [
        {
          "output_type": "stream",
          "name": "stdout",
          "text": [
            "True\n",
            "True\n",
            "True\n"
          ]
        }
      ]
    },
    {
      "cell_type": "markdown",
      "source": [
        "4. Membership Operators\n",
        "\n",
        "Membership operators test for membership within a sequence, such as a list, string, or tuple. They return True or False based on whether the value is found in the sequence.\n",
        "\n",
        "\n",
        "Membership Operators:\n",
        "in: Returns True if the specified value is found in the sequence.\n",
        "not in: Returns True if the specified value is not found in the sequence."
      ],
      "metadata": {
        "id": "O-_0eVKvWlLP"
      }
    },
    {
      "cell_type": "code",
      "source": [
        "my_list = [1, 2, 3, 4, 5]\n",
        "my_string = \"Python\"\n",
        "\n",
        "print(3 in my_list)  # Output: True (3 is in the list)\n",
        "print(6 not in my_list)  # Output: True (6 is not in the list)\n",
        "print(\"P\" in my_string)  # Output: True (\"P\" is in the string)\n",
        "print(\"z\" not in my_string)  # Output: True (\"z\" is not in the string)\n",
        "print(\"z\"  in my_string)   # Output: False (\"z\" is  in the string)"
      ],
      "metadata": {
        "colab": {
          "base_uri": "https://localhost:8080/"
        },
        "id": "ODdGG-6CWu7o",
        "outputId": "d5520929-02e9-4179-bfe3-e2a919fa1afa"
      },
      "execution_count": null,
      "outputs": [
        {
          "output_type": "stream",
          "name": "stdout",
          "text": [
            "True\n",
            "True\n",
            "True\n",
            "True\n",
            "False\n"
          ]
        }
      ]
    },
    {
      "cell_type": "markdown",
      "source": [
        "5. Bitwise Operators\n",
        "\n",
        "Bitwise operators perform operations on binary representations of integers. These operators are useful for low-level programming tasks like working with bits and bytes.\n",
        "\n",
        "\n",
        "Common Bitwise Operators:\n",
        "&: Bitwise AND (sets each bit to 1 if both bits are 1).\n",
        "\n",
        "|: Bitwise OR (sets each bit to 1 if one of the bits is 1).\n",
        "\n",
        "^: Bitwise XOR (sets each bit to 1 if only one of the bits is 1).\n",
        "\n",
        "~: Bitwise NOT (inverts all the bits).\n",
        "\n",
        "<<: Left shift (shifts bits to the left by a specified number of positions).\n",
        "\n",
        ">>: Right shift (shifts bits to the right by a specified number of positions).\n"
      ],
      "metadata": {
        "id": "IaDlhUFbWwf8"
      }
    },
    {
      "cell_type": "code",
      "source": [
        "a = 5  # In binary: 101\n",
        "b = 3  # In binary: 011\n",
        "\n",
        "# Bitwise AND\n",
        "print(a & b)  # Output: 1 (binary: 001)\n",
        "\n",
        "# Bitwise OR\n",
        "print(a | b)  # Output: 7 (binary: 111)\n",
        "\n",
        "# Bitwise XOR\n",
        "print(a ^ b)  # Output: 6 (binary: 110)\n",
        "\n",
        "# Bitwise NOT\n",
        "print(~a)  # Output: -6 (inverts all bits)\n",
        "\n",
        "# Left shift\n",
        "print(a << 1)  # Output: 10 (binary: 1010)\n",
        "\n",
        "# Right shift\n",
        "print(a >> 1)  # Output: 2 (binary: 010)"
      ],
      "metadata": {
        "colab": {
          "base_uri": "https://localhost:8080/"
        },
        "id": "VJQ4DC1dW8Lu",
        "outputId": "bae71cbb-1cf1-438b-e381-8464a76d9100"
      },
      "execution_count": null,
      "outputs": [
        {
          "output_type": "stream",
          "name": "stdout",
          "text": [
            "1\n",
            "7\n",
            "6\n",
            "-6\n",
            "10\n",
            "2\n"
          ]
        }
      ]
    }
  ]
}